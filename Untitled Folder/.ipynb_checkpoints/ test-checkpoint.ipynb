{
 "cells": [
  {
   "cell_type": "code",
   "execution_count": 7,
   "id": "bdc1ca46",
   "metadata": {},
   "outputs": [
    {
     "name": "stdout",
     "output_type": "stream",
     "text": [
      "G M\n",
      "GGG\n"
     ]
    }
   ],
   "source": [
    "arr = [['G', 'O', 'F', 'F', 'A', 'K', 'W', 'F', 'S', 'M'], ['O', 'Y', 'E', 'C', 'R', 'S', 'L', 'D', 'L', 'Q'], ['U', 'J', 'A', 'J', 'Q', 'V', 'S', 'Y', 'Y', 'C'], ['J', 'A', 'E', 'Z', 'N', 'N', 'Z', 'E', 'A', 'J'], ['W', 'J', 'A', 'K', 'C', 'G', 'S', 'G', 'C', 'F'], ['Q', 'K', 'U', 'D', 'G', 'A', 'T', 'D', 'Q', 'L'], ['O', 'K', 'G', 'P', 'F', 'P', 'Y', 'R', 'K', 'Q'], ['T', 'D', 'C', 'X', 'B', 'M', 'Q', 'T', 'I', 'O'], ['U', 'N', 'A', 'D', 'R', 'P', 'N', 'E', 'T', 'Z'], ['Z', 'A', 'T', 'W', 'D', 'E', 'K', 'D', 'Q', 'F']]\n",
    "\n",
    "print(arr[0][0], arr[0][-0-1])\n",
    "su = ''\n",
    "for i in range(3):\n",
    "    su+=arr[0][0]\n",
    "    \n",
    "print(su)"
   ]
  },
  {
   "cell_type": "code",
   "execution_count": 5,
   "id": "3d3e8d99",
   "metadata": {},
   "outputs": [
    {
     "name": "stdout",
     "output_type": "stream",
     "text": [
      "ggg\n"
     ]
    }
   ],
   "source": [
    "su = ''\n",
    "\n",
    "for i in range(3):\n",
    "    su+='g'\n",
    "    \n",
    "print(su)"
   ]
  },
  {
   "cell_type": "code",
   "execution_count": 8,
   "id": "7eb0f8e7",
   "metadata": {},
   "outputs": [
    {
     "name": "stdout",
     "output_type": "stream",
     "text": [
      "10\n"
     ]
    }
   ],
   "source": [
    "arr = ['G', 'O', 'F', 'F', 'A', 'K', 'W', 'F', 'S', 'M']\n",
    "print(len(arr))"
   ]
  },
  {
   "cell_type": "code",
   "execution_count": 19,
   "id": "6ed20c9b",
   "metadata": {},
   "outputs": [
    {
     "name": "stdout",
     "output_type": "stream",
     "text": [
      "8 1 7 2 6 3 5 4\n",
      "mixed\n"
     ]
    }
   ],
   "source": [
    "num = input()\n",
    "if num == '8 7 6 5 4 3 2 1' :\n",
    "    print('descending')\n",
    "elif num == '1 2 3 4 5 6 7 8':\n",
    "    print('ascending')\n",
    "else:\n",
    "    print('mixed')\n"
   ]
  },
  {
   "cell_type": "code",
   "execution_count": 1,
   "id": "0981989e",
   "metadata": {},
   "outputs": [
    {
     "data": {
      "text/plain": [
       "12"
      ]
     },
     "execution_count": 1,
     "metadata": {},
     "output_type": "execute_result"
    }
   ],
   "source": [
    "120//10"
   ]
  },
  {
   "cell_type": "code",
   "execution_count": 1,
   "id": "b2476193",
   "metadata": {},
   "outputs": [
    {
     "name": "stdout",
     "output_type": "stream",
     "text": [
      "1000 100\n",
      "10\n",
      "0\n"
     ]
    }
   ],
   "source": [
    "n, p = map(int, input().split())\n",
    "\n",
    "print(n//p)\n",
    "print(n%p)"
   ]
  },
  {
   "cell_type": "code",
   "execution_count": 12,
   "id": "60698afa",
   "metadata": {},
   "outputs": [
    {
     "name": "stdout",
     "output_type": "stream",
     "text": [
      "[5, 3, 15, '.']\n"
     ]
    }
   ],
   "source": [
    "li = [5, 3, '*', '.']\n",
    "\n",
    "li[2] = li[0]*li[1]\n",
    "# del li[0]\n",
    "# del li[1]\n",
    "print(li)"
   ]
  },
  {
   "cell_type": "code",
   "execution_count": 31,
   "id": "774aa3dd",
   "metadata": {},
   "outputs": [
    {
     "ename": "IndentationError",
     "evalue": "expected an indented block (2821775144.py, line 3)",
     "output_type": "error",
     "traceback": [
      "\u001b[1;36m  Input \u001b[1;32mIn [31]\u001b[1;36m\u001b[0m\n\u001b[1;33m    n, s = map(int, input().split())\u001b[0m\n\u001b[1;37m    ^\u001b[0m\n\u001b[1;31mIndentationError\u001b[0m\u001b[1;31m:\u001b[0m expected an indented block\n"
     ]
    }
   ],
   "source": [
    "while True:\n",
    "    try:\n",
    "    n, s = map(int, input().split())\n",
    "    print(s//(n+1))\n",
    "    except:\n",
    "        break"
   ]
  },
  {
   "cell_type": "code",
   "execution_count": 34,
   "id": "4138f920",
   "metadata": {},
   "outputs": [
    {
     "name": "stdout",
     "output_type": "stream",
     "text": [
      "['1', '2', '3', '4', '5', '4', '7', '8', '9']\n"
     ]
    }
   ],
   "source": [
    "a = 123454789\n",
    "\n",
    "li = list(str(a))\n",
    "\n",
    "print(li)"
   ]
  },
  {
   "cell_type": "code",
   "execution_count": 9,
   "id": "6741c0fc",
   "metadata": {},
   "outputs": [
    {
     "name": "stdout",
     "output_type": "stream",
     "text": [
      "3\n"
     ]
    },
    {
     "ename": "ValueError",
     "evalue": "invalid literal for int() with base 10: ''",
     "output_type": "error",
     "traceback": [
      "\u001b[1;31m---------------------------------------------------------------------------\u001b[0m",
      "\u001b[1;31mValueError\u001b[0m                                Traceback (most recent call last)",
      "Input \u001b[1;32mIn [9]\u001b[0m, in \u001b[0;36m<cell line: 7>\u001b[1;34m()\u001b[0m\n\u001b[0;32m      5\u001b[0m li\u001b[38;5;241m=\u001b[39m[]\n\u001b[0;32m      7\u001b[0m \u001b[38;5;28;01mfor\u001b[39;00m t \u001b[38;5;129;01min\u001b[39;00m \u001b[38;5;28mrange\u001b[39m(T):\n\u001b[1;32m----> 8\u001b[0m     a \u001b[38;5;241m=\u001b[39m \u001b[38;5;28;43mint\u001b[39;49m\u001b[43m(\u001b[49m\u001b[43msys\u001b[49m\u001b[38;5;241;43m.\u001b[39;49m\u001b[43mstdin\u001b[49m\u001b[38;5;241;43m.\u001b[39;49m\u001b[43mreadline\u001b[49m\u001b[43m(\u001b[49m\u001b[43m)\u001b[49m\u001b[43m)\u001b[49m\n\u001b[0;32m      9\u001b[0m     li\u001b[38;5;241m.\u001b[39mappend(a)\n\u001b[0;32m     10\u001b[0m li\u001b[38;5;241m.\u001b[39msort()\n",
      "\u001b[1;31mValueError\u001b[0m: invalid literal for int() with base 10: ''"
     ]
    }
   ],
   "source": [
    "import sys\n",
    "\n",
    "\n",
    "T = int(input())\n",
    "li=[]\n",
    "\n",
    "for t in range(T):\n",
    "    a = int(sys.stdin.readline().rstrip())\n",
    "    li.append(a)\n",
    "li.sort()\n",
    "for i in range(T):\n",
    "    print(li[i])"
   ]
  },
  {
   "cell_type": "code",
   "execution_count": 4,
   "id": "1e97c421",
   "metadata": {},
   "outputs": [
    {
     "name": "stdout",
     "output_type": "stream",
     "text": [
      "0 4 2 5 6\n",
      "1\n"
     ]
    }
   ],
   "source": [
    "li = list(map(int, input().split()))\n",
    "rst = 0\n",
    "for i in li:\n",
    "    rst += i*i\n",
    "print(str(rst)[-1])\n"
   ]
  },
  {
   "cell_type": "code",
   "execution_count": 9,
   "id": "e6060b50",
   "metadata": {},
   "outputs": [
    {
     "name": "stdout",
     "output_type": "stream",
     "text": [
      "3 14 15 92 65\n",
      "195\n"
     ]
    }
   ],
   "source": [
    "a, b, c, d, e = map(int, input().split())\n",
    "re = min(a,b,c,d,e)\n",
    "while True:\n",
    "    co = 0\n",
    "    if re % a == 0:\n",
    "        co += 1\n",
    "    if re % b == 0:\n",
    "        co += 1       \n",
    "    if re % c == 0:\n",
    "        co += 1    \n",
    "    if re % d == 0:\n",
    "        co += 1\n",
    "    if re % e == 0:\n",
    "        co += 1\n",
    "    if co >= 3:\n",
    "        print(re)\n",
    "        break\n",
    "    else:\n",
    "        re += 1"
   ]
  },
  {
   "cell_type": "code",
   "execution_count": 11,
   "id": "b0739654",
   "metadata": {},
   "outputs": [
    {
     "name": "stdout",
     "output_type": "stream",
     "text": [
      "5\n",
      "4 1 5 2 3\n",
      "5\n",
      "1 3 7 9 5\n",
      "1\n",
      "1\n",
      "0\n",
      "0\n",
      "1\n"
     ]
    }
   ],
   "source": [
    "import sys\n",
    "input = sys.stdin.readline\n",
    "\n",
    "num = int(input())\n",
    "li = list(map(int, input().split()))\n",
    "find_num = int(input())\n",
    "find_li = list(map(int, input().split()))\n",
    "for i in find_li:\n",
    "    if i in li:\n",
    "        print(1)\n",
    "    else:\n",
    "        print(0)\n",
    "# 시간초과뜸"
   ]
  },
  {
   "cell_type": "code",
   "execution_count": 20,
   "id": "c89d849c",
   "metadata": {},
   "outputs": [
    {
     "name": "stdout",
     "output_type": "stream",
     "text": [
      "2\n",
      "4 5\n",
      "2\n",
      "5 4\n",
      "1\n",
      "1\n"
     ]
    }
   ],
   "source": [
    "num = int(input())\n",
    "li = list(map(int, input().split()))\n",
    "find_num = int(input())\n",
    "find_li = list(map(int, input().split()))\n",
    "\n",
    "arr = [0]*max(li)\n",
    "for i in li:\n",
    "    arr[i] = 1\n",
    "\n",
    "for j in find_li:\n",
    "    print(arr[j])"
   ]
  },
  {
   "cell_type": "code",
   "execution_count": 32,
   "id": "626a8227",
   "metadata": {},
   "outputs": [
    {
     "name": "stdout",
     "output_type": "stream",
     "text": [
      "[1, 3, 5, 4, 8, 3]\n",
      "[1, 3, 3, 4, 5, 8]\n",
      "[5, 8]\n"
     ]
    }
   ],
   "source": [
    "li=[1,3,5,4,8,3]\n",
    "print(li)\n",
    "li.sort()\n",
    "print(li)\n",
    "del li[:li.index(5)]\n",
    "print(li)\n"
   ]
  },
  {
   "cell_type": "code",
   "execution_count": null,
   "id": "5975e726",
   "metadata": {},
   "outputs": [],
   "source": [
    "import sys\n",
    "input = sys.stdin.readline\n",
    "\n",
    "num = int(input())\n",
    "li = list(map(int, input().split()))\n",
    "li.sort()\n",
    "\n",
    "find_num = int(input())\n",
    "find_li = list(map(int, input().split()))\n",
    "find_li.sort()\n",
    "for i in find_li:\n",
    "    if i in li:\n",
    "        del li[:li.index(i)+1]\n",
    "        print(1)\n",
    "    else:\n",
    "        print(0)\n",
    "# 시간초과뜸"
   ]
  },
  {
   "cell_type": "code",
   "execution_count": null,
   "id": "0a1513b1",
   "metadata": {},
   "outputs": [],
   "source": []
  },
  {
   "cell_type": "code",
   "execution_count": null,
   "id": "0871171e",
   "metadata": {},
   "outputs": [],
   "source": []
  }
 ],
 "metadata": {
  "kernelspec": {
   "display_name": "Python 3 (ipykernel)",
   "language": "python",
   "name": "python3"
  },
  "language_info": {
   "codemirror_mode": {
    "name": "ipython",
    "version": 3
   },
   "file_extension": ".py",
   "mimetype": "text/x-python",
   "name": "python",
   "nbconvert_exporter": "python",
   "pygments_lexer": "ipython3",
   "version": "3.9.13"
  },
  "toc": {
   "base_numbering": 1,
   "nav_menu": {},
   "number_sections": true,
   "sideBar": true,
   "skip_h1_title": false,
   "title_cell": "Table of Contents",
   "title_sidebar": "Contents",
   "toc_cell": false,
   "toc_position": {},
   "toc_section_display": true,
   "toc_window_display": false
  }
 },
 "nbformat": 4,
 "nbformat_minor": 5
}
