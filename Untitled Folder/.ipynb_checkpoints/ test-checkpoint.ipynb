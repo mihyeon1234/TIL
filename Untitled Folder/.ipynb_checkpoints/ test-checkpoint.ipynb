{
 "cells": [
  {
   "cell_type": "code",
   "execution_count": 7,
   "id": "bdc1ca46",
   "metadata": {},
   "outputs": [
    {
     "name": "stdout",
     "output_type": "stream",
     "text": [
      "G M\n",
      "GGG\n"
     ]
    }
   ],
   "source": [
    "arr = [['G', 'O', 'F', 'F', 'A', 'K', 'W', 'F', 'S', 'M'], ['O', 'Y', 'E', 'C', 'R', 'S', 'L', 'D', 'L', 'Q'], ['U', 'J', 'A', 'J', 'Q', 'V', 'S', 'Y', 'Y', 'C'], ['J', 'A', 'E', 'Z', 'N', 'N', 'Z', 'E', 'A', 'J'], ['W', 'J', 'A', 'K', 'C', 'G', 'S', 'G', 'C', 'F'], ['Q', 'K', 'U', 'D', 'G', 'A', 'T', 'D', 'Q', 'L'], ['O', 'K', 'G', 'P', 'F', 'P', 'Y', 'R', 'K', 'Q'], ['T', 'D', 'C', 'X', 'B', 'M', 'Q', 'T', 'I', 'O'], ['U', 'N', 'A', 'D', 'R', 'P', 'N', 'E', 'T', 'Z'], ['Z', 'A', 'T', 'W', 'D', 'E', 'K', 'D', 'Q', 'F']]\n",
    "\n",
    "print(arr[0][0], arr[0][-0-1])\n",
    "su = ''\n",
    "for i in range(3):\n",
    "    su+=arr[0][0]\n",
    "    \n",
    "print(su)"
   ]
  },
  {
   "cell_type": "code",
   "execution_count": 5,
   "id": "3d3e8d99",
   "metadata": {},
   "outputs": [
    {
     "name": "stdout",
     "output_type": "stream",
     "text": [
      "ggg\n"
     ]
    }
   ],
   "source": [
    "su = ''\n",
    "\n",
    "for i in range(3):\n",
    "    su+='g'\n",
    "    \n",
    "print(su)"
   ]
  },
  {
   "cell_type": "code",
   "execution_count": 8,
   "id": "7eb0f8e7",
   "metadata": {},
   "outputs": [
    {
     "name": "stdout",
     "output_type": "stream",
     "text": [
      "10\n"
     ]
    }
   ],
   "source": [
    "arr = ['G', 'O', 'F', 'F', 'A', 'K', 'W', 'F', 'S', 'M']\n",
    "print(len(arr))"
   ]
  },
  {
   "cell_type": "code",
   "execution_count": 19,
   "id": "6ed20c9b",
   "metadata": {},
   "outputs": [
    {
     "name": "stdout",
     "output_type": "stream",
     "text": [
      "8 1 7 2 6 3 5 4\n",
      "mixed\n"
     ]
    }
   ],
   "source": [
    "num = input()\n",
    "if num == '8 7 6 5 4 3 2 1' :\n",
    "    print('descending')\n",
    "elif num == '1 2 3 4 5 6 7 8':\n",
    "    print('ascending')\n",
    "else:\n",
    "    print('mixed')\n"
   ]
  },
  {
   "cell_type": "code",
   "execution_count": 1,
   "id": "0981989e",
   "metadata": {},
   "outputs": [
    {
     "data": {
      "text/plain": [
       "12"
      ]
     },
     "execution_count": 1,
     "metadata": {},
     "output_type": "execute_result"
    }
   ],
   "source": [
    "120//10"
   ]
  },
  {
   "cell_type": "code",
   "execution_count": 1,
   "id": "b2476193",
   "metadata": {},
   "outputs": [
    {
     "name": "stdout",
     "output_type": "stream",
     "text": [
      "1000 100\n",
      "10\n",
      "0\n"
     ]
    }
   ],
   "source": [
    "n, p = map(int, input().split())\n",
    "\n",
    "print(n//p)\n",
    "print(n%p)"
   ]
  },
  {
   "cell_type": "code",
   "execution_count": 12,
   "id": "60698afa",
   "metadata": {},
   "outputs": [
    {
     "name": "stdout",
     "output_type": "stream",
     "text": [
      "[5, 3, 15, '.']\n"
     ]
    }
   ],
   "source": [
    "li = [5, 3, '*', '.']\n",
    "\n",
    "li[2] = li[0]*li[1]\n",
    "# del li[0]\n",
    "# del li[1]\n",
    "print(li)"
   ]
  },
  {
   "cell_type": "code",
   "execution_count": 28,
   "id": "774aa3dd",
   "metadata": {},
   "outputs": [
    {
     "name": "stdout",
     "output_type": "stream",
     "text": [
      "\n"
     ]
    },
    {
     "ename": "ValueError",
     "evalue": "not enough values to unpack (expected 2, got 0)",
     "output_type": "error",
     "traceback": [
      "\u001b[1;31m---------------------------------------------------------------------------\u001b[0m",
      "\u001b[1;31mValueError\u001b[0m                                Traceback (most recent call last)",
      "Input \u001b[1;32mIn [28]\u001b[0m, in \u001b[0;36m<cell line: 1>\u001b[1;34m()\u001b[0m\n\u001b[1;32m----> 1\u001b[0m n, s \u001b[38;5;241m=\u001b[39m \u001b[38;5;28mmap\u001b[39m(\u001b[38;5;28mint\u001b[39m, \u001b[38;5;28minput\u001b[39m()\u001b[38;5;241m.\u001b[39msplit())\n\u001b[0;32m      2\u001b[0m \u001b[38;5;28mprint\u001b[39m(s\u001b[38;5;241m/\u001b[39m\u001b[38;5;241m/\u001b[39m(n\u001b[38;5;241m+\u001b[39m\u001b[38;5;241m1\u001b[39m))\n",
      "\u001b[1;31mValueError\u001b[0m: not enough values to unpack (expected 2, got 0)"
     ]
    }
   ],
   "source": [
    "while True:\n",
    "    try:\n",
    "    n, s = map(int, input().split())\n",
    "    print(s//(n+1))\n",
    "    except:\n",
    "        break"
   ]
  },
  {
   "cell_type": "code",
   "execution_count": null,
   "id": "4138f920",
   "metadata": {},
   "outputs": [],
   "source": []
  },
  {
   "cell_type": "code",
   "execution_count": null,
   "id": "6741c0fc",
   "metadata": {},
   "outputs": [],
   "source": []
  }
 ],
 "metadata": {
  "kernelspec": {
   "display_name": "Python 3 (ipykernel)",
   "language": "python",
   "name": "python3"
  },
  "language_info": {
   "codemirror_mode": {
    "name": "ipython",
    "version": 3
   },
   "file_extension": ".py",
   "mimetype": "text/x-python",
   "name": "python",
   "nbconvert_exporter": "python",
   "pygments_lexer": "ipython3",
   "version": "3.9.13"
  }
 },
 "nbformat": 4,
 "nbformat_minor": 5
}
