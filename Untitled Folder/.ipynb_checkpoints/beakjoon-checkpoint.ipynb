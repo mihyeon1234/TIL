{
 "cells": [
  {
   "cell_type": "code",
   "execution_count": 58,
   "id": "be0a97f7",
   "metadata": {},
   "outputs": [
    {
     "name": "stdout",
     "output_type": "stream",
     "text": [
      "2000\n",
      "1\n"
     ]
    }
   ],
   "source": [
    "year = int(input())\n",
    "leaf = 0\n",
    "if year % 4 == 0 and ( year % 100 != 0 or year % 400 == 0) :\n",
    "    leaf = 1\n",
    "print(leaf)"
   ]
  },
  {
   "cell_type": "code",
   "execution_count": 110,
   "id": "4cce82db",
   "metadata": {},
   "outputs": [
    {
     "name": "stdout",
     "output_type": "stream",
     "text": [
      "3\n",
      "2 586\n",
      "4\n",
      "8 456\n",
      "4\n",
      "6 789\n",
      "6\n"
     ]
    }
   ],
   "source": [
    "num = int(input())\n",
    "for i in range(num):\n",
    "    a, b = input().split()\n",
    "    c = (int(a) ** int(b)%10)\n",
    "    print(c)\n"
   ]
  },
  {
   "cell_type": "code",
   "execution_count": 109,
   "id": "f0b93195",
   "metadata": {},
   "outputs": [
    {
     "data": {
      "text/plain": [
       "(584, 448, 787)"
      ]
     },
     "execution_count": 109,
     "metadata": {},
     "output_type": "execute_result"
    }
   ],
   "source": [
    "2^586,8^456,6^789"
   ]
  },
  {
   "cell_type": "code",
   "execution_count": null,
   "id": "f6e32454",
   "metadata": {},
   "outputs": [],
   "source": []
  }
 ],
 "metadata": {
  "kernelspec": {
   "display_name": "Python 3 (ipykernel)",
   "language": "python",
   "name": "python3"
  },
  "language_info": {
   "codemirror_mode": {
    "name": "ipython",
    "version": 3
   },
   "file_extension": ".py",
   "mimetype": "text/x-python",
   "name": "python",
   "nbconvert_exporter": "python",
   "pygments_lexer": "ipython3",
   "version": "3.9.13"
  },
  "toc": {
   "base_numbering": 1,
   "nav_menu": {},
   "number_sections": true,
   "sideBar": true,
   "skip_h1_title": false,
   "title_cell": "Table of Contents",
   "title_sidebar": "Contents",
   "toc_cell": false,
   "toc_position": {},
   "toc_section_display": true,
   "toc_window_display": false
  }
 },
 "nbformat": 4,
 "nbformat_minor": 5
}
