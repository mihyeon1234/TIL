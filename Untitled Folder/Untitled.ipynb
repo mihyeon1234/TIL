{
 "cells": [
  {
   "cell_type": "code",
   "execution_count": 7,
   "id": "4b69b611",
   "metadata": {},
   "outputs": [
    {
     "name": "stdout",
     "output_type": "stream",
     "text": [
      "[3, 3, 2, 1]\n"
     ]
    }
   ],
   "source": [
    "an = [4, 3, 3, 2, 1]\n",
    "print(an[1:len(an)])"
   ]
  },
  {
   "cell_type": "code",
   "execution_count": 11,
   "id": "63915660",
   "metadata": {},
   "outputs": [
    {
     "name": "stdout",
     "output_type": "stream",
     "text": [
      "[4, 3, 3, 2, 1, 4, 3, 3, 2, 1, 4, 3, 3, 2, 1, 4, 3, 3, 2, 1]\n",
      "[4, 3, 3, 2, 1]\n"
     ]
    }
   ],
   "source": [
    "li = [4, 3, 3, 2, 1,4, 3, 3, 2, 1,4, 3, 3, 2, 1,4, 3, 3, 2, 1,4, 3, 3, 2, 1,]\n",
    "\n",
    "for p in range(0,len(li),20):\n",
    "    print(li[p:p+20])"
   ]
  },
  {
   "cell_type": "code",
   "execution_count": null,
   "id": "4dda05ae",
   "metadata": {},
   "outputs": [],
   "source": []
  },
  {
   "cell_type": "code",
   "execution_count": null,
   "id": "e2b99bf0",
   "metadata": {},
   "outputs": [],
   "source": []
  },
  {
   "cell_type": "code",
   "execution_count": null,
   "id": "c8b4599b",
   "metadata": {},
   "outputs": [],
   "source": []
  },
  {
   "cell_type": "code",
   "execution_count": null,
   "id": "98ee1ffb",
   "metadata": {},
   "outputs": [],
   "source": []
  }
 ],
 "metadata": {
  "kernelspec": {
   "display_name": "Python 3 (ipykernel)",
   "language": "python",
   "name": "python3"
  },
  "language_info": {
   "codemirror_mode": {
    "name": "ipython",
    "version": 3
   },
   "file_extension": ".py",
   "mimetype": "text/x-python",
   "name": "python",
   "nbconvert_exporter": "python",
   "pygments_lexer": "ipython3",
   "version": "3.9.13"
  },
  "toc": {
   "base_numbering": 1,
   "nav_menu": {},
   "number_sections": true,
   "sideBar": true,
   "skip_h1_title": false,
   "title_cell": "Table of Contents",
   "title_sidebar": "Contents",
   "toc_cell": false,
   "toc_position": {},
   "toc_section_display": true,
   "toc_window_display": false
  }
 },
 "nbformat": 4,
 "nbformat_minor": 5
}
