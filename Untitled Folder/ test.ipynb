{
 "cells": [
  {
   "cell_type": "code",
   "execution_count": 7,
   "id": "bdc1ca46",
   "metadata": {},
   "outputs": [
    {
     "name": "stdout",
     "output_type": "stream",
     "text": [
      "G M\n",
      "GGG\n"
     ]
    }
   ],
   "source": [
    "arr = [['G', 'O', 'F', 'F', 'A', 'K', 'W', 'F', 'S', 'M'], ['O', 'Y', 'E', 'C', 'R', 'S', 'L', 'D', 'L', 'Q'], ['U', 'J', 'A', 'J', 'Q', 'V', 'S', 'Y', 'Y', 'C'], ['J', 'A', 'E', 'Z', 'N', 'N', 'Z', 'E', 'A', 'J'], ['W', 'J', 'A', 'K', 'C', 'G', 'S', 'G', 'C', 'F'], ['Q', 'K', 'U', 'D', 'G', 'A', 'T', 'D', 'Q', 'L'], ['O', 'K', 'G', 'P', 'F', 'P', 'Y', 'R', 'K', 'Q'], ['T', 'D', 'C', 'X', 'B', 'M', 'Q', 'T', 'I', 'O'], ['U', 'N', 'A', 'D', 'R', 'P', 'N', 'E', 'T', 'Z'], ['Z', 'A', 'T', 'W', 'D', 'E', 'K', 'D', 'Q', 'F']]\n",
    "\n",
    "print(arr[0][0], arr[0][-0-1])\n",
    "su = ''\n",
    "for i in range(3):\n",
    "    su+=arr[0][0]\n",
    "    \n",
    "print(su)"
   ]
  },
  {
   "cell_type": "code",
   "execution_count": 5,
   "id": "3d3e8d99",
   "metadata": {},
   "outputs": [
    {
     "name": "stdout",
     "output_type": "stream",
     "text": [
      "ggg\n"
     ]
    }
   ],
   "source": [
    "su = ''\n",
    "\n",
    "for i in range(3):\n",
    "    su+='g'\n",
    "    \n",
    "print(su)"
   ]
  },
  {
   "cell_type": "code",
   "execution_count": 8,
   "id": "7eb0f8e7",
   "metadata": {},
   "outputs": [
    {
     "name": "stdout",
     "output_type": "stream",
     "text": [
      "10\n"
     ]
    }
   ],
   "source": [
    "arr = ['G', 'O', 'F', 'F', 'A', 'K', 'W', 'F', 'S', 'M']\n",
    "print(len(arr))"
   ]
  },
  {
   "cell_type": "code",
   "execution_count": 19,
   "id": "6ed20c9b",
   "metadata": {},
   "outputs": [
    {
     "name": "stdout",
     "output_type": "stream",
     "text": [
      "8 1 7 2 6 3 5 4\n",
      "mixed\n"
     ]
    }
   ],
   "source": [
    "num = input()\n",
    "if num == '8 7 6 5 4 3 2 1' :\n",
    "    print('descending')\n",
    "elif num == '1 2 3 4 5 6 7 8':\n",
    "    print('ascending')\n",
    "else:\n",
    "    print('mixed')\n"
   ]
  },
  {
   "cell_type": "code",
   "execution_count": 1,
   "id": "0981989e",
   "metadata": {},
   "outputs": [
    {
     "data": {
      "text/plain": [
       "12"
      ]
     },
     "execution_count": 1,
     "metadata": {},
     "output_type": "execute_result"
    }
   ],
   "source": [
    "120//10"
   ]
  },
  {
   "cell_type": "code",
   "execution_count": 1,
   "id": "b2476193",
   "metadata": {},
   "outputs": [
    {
     "name": "stdout",
     "output_type": "stream",
     "text": [
      "1000 100\n",
      "10\n",
      "0\n"
     ]
    }
   ],
   "source": [
    "n, p = map(int, input().split())\n",
    "\n",
    "print(n//p)\n",
    "print(n%p)"
   ]
  },
  {
   "cell_type": "code",
   "execution_count": null,
   "id": "60698afa",
   "metadata": {},
   "outputs": [],
   "source": []
  },
  {
   "cell_type": "code",
   "execution_count": null,
   "id": "774aa3dd",
   "metadata": {},
   "outputs": [],
   "source": []
  },
  {
   "cell_type": "code",
   "execution_count": null,
   "id": "4138f920",
   "metadata": {},
   "outputs": [],
   "source": []
  },
  {
   "cell_type": "code",
   "execution_count": null,
   "id": "6741c0fc",
   "metadata": {},
   "outputs": [],
   "source": []
  }
 ],
 "metadata": {
  "kernelspec": {
   "display_name": "Python 3 (ipykernel)",
   "language": "python",
   "name": "python3"
  },
  "language_info": {
   "codemirror_mode": {
    "name": "ipython",
    "version": 3
   },
   "file_extension": ".py",
   "mimetype": "text/x-python",
   "name": "python",
   "nbconvert_exporter": "python",
   "pygments_lexer": "ipython3",
   "version": "3.9.13"
  }
 },
 "nbformat": 4,
 "nbformat_minor": 5
}
