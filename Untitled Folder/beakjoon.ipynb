{
 "cells": [
  {
   "cell_type": "code",
   "execution_count": 58,
   "id": "be0a97f7",
   "metadata": {},
   "outputs": [
    {
     "name": "stdout",
     "output_type": "stream",
     "text": [
      "2000\n",
      "1\n"
     ]
    }
   ],
   "source": [
    "year = int(input())\n",
    "leaf = 0\n",
    "if year % 4 == 0 and ( year % 100 != 0 or year % 400 == 0) :\n",
    "    leaf = 1\n",
    "print(leaf)"
   ]
  },
  {
   "cell_type": "code",
   "execution_count": 117,
   "id": "1c9fbca2",
   "metadata": {},
   "outputs": [
    {
     "name": "stdout",
     "output_type": "stream",
     "text": [
      "3\n",
      "2 586\n",
      "4\n",
      "8 456\n",
      "6\n",
      "6 789\n",
      "6\n"
     ]
    }
   ],
   "source": [
    "num = int(input())\n",
    "for i in range(num):\n",
    "    a, b = input().split()\n",
    "    c = (int(a) ** int(b)%10)\n",
    "    print(c)\n"
   ]
  },
  {
   "cell_type": "code",
   "execution_count": 114,
   "id": "8cc370cd",
   "metadata": {},
   "outputs": [
    {
     "data": {
      "text/plain": [
       "(253266331108459042877954581524118722595974501479640924072000569439126758509088631982403994686712878069348015540240526683495797795130113239006767262824338603946605334680267915264,\n",
       " 6442197994971210171117433855979443557987035158250386343091063510776640623123668808832987706388430973801155931354965850214447254634690146708203626373189659075327467602032807223495137635981210320405619766850141243854126064159061121384906867646861040847546861854581789541741837599988574191201391849388877862497098716898068649114525744392360657144543253492928999416156434444312343408202430172982066292783997157113856,\n",
       " 91482190004799507745690690062899979687144310523206414660994338694068541092715696712301507704255023250239299451243162392549522644015360318207342444213356721253776188326605271485796326092289599219793522791863259546382197924436807303566091735878715768024560024960387548767586687042483837715493866999223107153306692523392241473786690199688777898234317329915001670199204427202731495068726345499802739249692392139453790467990406748458326853666861791092058786086814342816135258387255729104786513108815250352795430150278547425476578764726643432936517488689903476686555232199217410356872900294381084371701059563849405956096)"
      ]
     },
     "execution_count": 114,
     "metadata": {},
     "output_type": "execute_result"
    }
   ],
   "source": [
    "2**586,8**456,6**789"
   ]
  },
  {
   "cell_type": "code",
   "execution_count": null,
   "id": "4eae65b8",
   "metadata": {},
   "outputs": [],
   "source": []
  }
 ],
 "metadata": {
  "kernelspec": {
   "display_name": "Python 3 (ipykernel)",
   "language": "python",
   "name": "python3"
  },
  "language_info": {
   "codemirror_mode": {
    "name": "ipython",
    "version": 3
   },
   "file_extension": ".py",
   "mimetype": "text/x-python",
   "name": "python",
   "nbconvert_exporter": "python",
   "pygments_lexer": "ipython3",
   "version": "3.9.13"
  },
  "toc": {
   "base_numbering": 1,
   "nav_menu": {},
   "number_sections": true,
   "sideBar": true,
   "skip_h1_title": false,
   "title_cell": "Table of Contents",
   "title_sidebar": "Contents",
   "toc_cell": false,
   "toc_position": {},
   "toc_section_display": true,
   "toc_window_display": false
  }
 },
 "nbformat": 4,
 "nbformat_minor": 5
}
