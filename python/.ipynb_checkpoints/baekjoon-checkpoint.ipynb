{
 "cells": [
  {
   "cell_type": "markdown",
   "id": "ed483a63",
   "metadata": {},
   "source": [
    "## 조건문"
   ]
  },
  {
   "cell_type": "markdown",
   "id": "a634c60a",
   "metadata": {},
   "source": [
    "#14681 사분면 고르기"
   ]
  },
  {
   "cell_type": "code",
   "execution_count": 3,
   "id": "48123bea",
   "metadata": {},
   "outputs": [
    {
     "name": "stdout",
     "output_type": "stream",
     "text": [
      "9\n",
      "-13\n",
      "4\n"
     ]
    }
   ],
   "source": [
    "numx = int(input())\n",
    "numy = int(input())\n",
    "\n",
    "if numx > 0 and numy > 0:\n",
    "    print(1)\n",
    "elif numx > 0 and numy < 0:\n",
    "    print(4)\n",
    "elif numx < 0 and numy < 0:\n",
    "    print(3)\n",
    "elif numx < 0 and numy > 0:\n",
    "    print(2)"
   ]
  },
  {
   "cell_type": "markdown",
   "id": "a54034a5",
   "metadata": {},
   "source": [
    "#2884 알람 시계 "
   ]
  },
  {
   "cell_type": "code",
   "execution_count": 35,
   "id": "43f30841",
   "metadata": {},
   "outputs": [
    {
     "name": "stdout",
     "output_type": "stream",
     "text": [
      "0 59\n",
      "0 14\n"
     ]
    }
   ],
   "source": [
    "a,b = map(int,input().split())\n",
    "if b < 45 and a == 0:\n",
    "     print(23, 60-45+b)\n",
    "elif b < 45 and a <= 23:\n",
    "    print(a-1, 60-45+b)\n",
    "elif b >= 45 and a == 0:\n",
    "     print(a, b-45)\n",
    "elif b >= 45 and a <= 23:\n",
    "     print(a, b-45)        "
   ]
  },
  {
   "cell_type": "code",
   "execution_count": null,
   "id": "3e32b759",
   "metadata": {},
   "outputs": [],
   "source": []
  },
  {
   "cell_type": "code",
   "execution_count": null,
   "id": "23a1ec3f",
   "metadata": {},
   "outputs": [],
   "source": []
  },
  {
   "cell_type": "code",
   "execution_count": null,
   "id": "17f8384d",
   "metadata": {},
   "outputs": [],
   "source": []
  },
  {
   "cell_type": "code",
   "execution_count": null,
   "id": "09f6ccbd",
   "metadata": {},
   "outputs": [],
   "source": []
  },
  {
   "cell_type": "markdown",
   "id": "84620758",
   "metadata": {},
   "source": [
    "## 반복문"
   ]
  },
  {
   "cell_type": "markdown",
   "id": "5d7b58d1",
   "metadata": {},
   "source": [
    "#2739 구구단"
   ]
  },
  {
   "cell_type": "code",
   "execution_count": 38,
   "id": "a286ab93",
   "metadata": {},
   "outputs": [
    {
     "name": "stdout",
     "output_type": "stream",
     "text": [
      "2\n",
      "2 * 1 = 2\n",
      "2 * 2 = 4\n",
      "2 * 3 = 6\n",
      "2 * 4 = 8\n",
      "2 * 5 = 10\n",
      "2 * 6 = 12\n",
      "2 * 7 = 14\n",
      "2 * 8 = 16\n",
      "2 * 9 = 18\n"
     ]
    }
   ],
   "source": [
    "num = int(input())\n",
    "\n",
    "for i in range(1,10):\n",
    "    print(f'{num} * {i} = {num*i}')"
   ]
  },
  {
   "cell_type": "markdown",
   "id": "fa96e581",
   "metadata": {},
   "source": [
    "#10950 A+B -3"
   ]
  },
  {
   "cell_type": "code",
   "execution_count": 41,
   "id": "07783069",
   "metadata": {},
   "outputs": [
    {
     "name": "stdout",
     "output_type": "stream",
     "text": [
      "5\n",
      "1 1\n",
      "2\n",
      "2 3\n",
      "5\n",
      "5 6\n",
      "11\n",
      "9 8\n",
      "17\n",
      "155 33\n",
      "188\n"
     ]
    }
   ],
   "source": [
    "num = int(input())\n",
    "\n",
    "for i in range(num):\n",
    "    a,b = map(int,input().split())\n",
    "    print(a+b)"
   ]
  },
  {
   "cell_type": "markdown",
   "id": "a62cb398",
   "metadata": {},
   "source": [
    "#8393 합"
   ]
  },
  {
   "cell_type": "code",
   "execution_count": null,
   "id": "643dfae9",
   "metadata": {},
   "outputs": [],
   "source": [
    "num = int(input())\n",
    "su = 0\n",
    "for i in range(1,num+1):\n",
    "    su += i\n",
    "    i+=1\n",
    "print(su)"
   ]
  },
  {
   "cell_type": "markdown",
   "id": "a021c880",
   "metadata": {},
   "source": [
    "#15552 빠른A+B"
   ]
  },
  {
   "cell_type": "code",
   "execution_count": 56,
   "id": "6a9f8a96",
   "metadata": {},
   "outputs": [
    {
     "name": "stdout",
     "output_type": "stream",
     "text": [
      "5\n"
     ]
    },
    {
     "ename": "ValueError",
     "evalue": "not enough values to unpack (expected 2, got 0)",
     "output_type": "error",
     "traceback": [
      "\u001b[1;31m---------------------------------------------------------------------------\u001b[0m",
      "\u001b[1;31mValueError\u001b[0m                                Traceback (most recent call last)",
      "Input \u001b[1;32mIn [56]\u001b[0m, in \u001b[0;36m<cell line: 3>\u001b[1;34m()\u001b[0m\n\u001b[0;32m      2\u001b[0m num \u001b[38;5;241m=\u001b[39m \u001b[38;5;28mint\u001b[39m(\u001b[38;5;28minput\u001b[39m())\n\u001b[0;32m      3\u001b[0m \u001b[38;5;28;01mfor\u001b[39;00m i \u001b[38;5;129;01min\u001b[39;00m \u001b[38;5;28mrange\u001b[39m(num):\n\u001b[1;32m----> 4\u001b[0m     a,b \u001b[38;5;241m=\u001b[39m \u001b[38;5;28mmap\u001b[39m(\u001b[38;5;28mint\u001b[39m, sys\u001b[38;5;241m.\u001b[39mstdin\u001b[38;5;241m.\u001b[39mreadline()\u001b[38;5;241m.\u001b[39msplit())\n\u001b[0;32m      5\u001b[0m     \u001b[38;5;28mprint\u001b[39m(a\u001b[38;5;241m+\u001b[39mb)\n",
      "\u001b[1;31mValueError\u001b[0m: not enough values to unpack (expected 2, got 0)"
     ]
    }
   ],
   "source": [
    "import sys\n",
    "num = int(input())\n",
    "for i in range(num):\n",
    "    a,b = map(int, sys.stdin.readline().split())\n",
    "    print(a+b)"
   ]
  },
  {
   "cell_type": "markdown",
   "id": "f303014d",
   "metadata": {},
   "source": [
    "#2741 N찍기"
   ]
  },
  {
   "cell_type": "code",
   "execution_count": 57,
   "id": "de563569",
   "metadata": {},
   "outputs": [
    {
     "name": "stdout",
     "output_type": "stream",
     "text": [
      "5\n",
      "1\n",
      "2\n",
      "3\n",
      "4\n",
      "5\n"
     ]
    }
   ],
   "source": [
    "num = int(input())\n",
    "for i in range(1,num+1):\n",
    "    print(i)\n"
   ]
  },
  {
   "cell_type": "code",
   "execution_count": null,
   "id": "5eaa88be",
   "metadata": {},
   "outputs": [],
   "source": []
  },
  {
   "cell_type": "code",
   "execution_count": null,
   "id": "a296d977",
   "metadata": {},
   "outputs": [],
   "source": []
  },
  {
   "cell_type": "code",
   "execution_count": null,
   "id": "a1c79b85",
   "metadata": {},
   "outputs": [],
   "source": []
  },
  {
   "cell_type": "code",
   "execution_count": null,
   "id": "c56ec8b5",
   "metadata": {},
   "outputs": [],
   "source": []
  },
  {
   "cell_type": "code",
   "execution_count": null,
   "id": "a691b292",
   "metadata": {},
   "outputs": [],
   "source": []
  },
  {
   "cell_type": "markdown",
   "id": "340ff364",
   "metadata": {},
   "source": [
    "## 1차원 배열"
   ]
  },
  {
   "cell_type": "markdown",
   "id": "fa99dace",
   "metadata": {},
   "source": [
    "#10818 최소, 최대"
   ]
  },
  {
   "cell_type": "code",
   "execution_count": 58,
   "id": "20ce3635",
   "metadata": {},
   "outputs": [
    {
     "name": "stdout",
     "output_type": "stream",
     "text": [
      "5\n",
      "20 10 35 30 7\n",
      "7 35\n"
     ]
    }
   ],
   "source": [
    "num = int(input())\n",
    "li = list(map(int,input().split()))\n",
    "print(min(li),max(li))"
   ]
  },
  {
   "cell_type": "markdown",
   "id": "fd75151e",
   "metadata": {},
   "source": [
    "#2562 최댓값"
   ]
  },
  {
   "cell_type": "code",
   "execution_count": 75,
   "id": "6f3d193f",
   "metadata": {},
   "outputs": [
    {
     "name": "stdout",
     "output_type": "stream",
     "text": [
      "3\n",
      "29\n",
      "38\n",
      "12\n",
      "57\n",
      "74\n",
      "40\n",
      "85\n",
      "61\n",
      "85\n",
      "8\n"
     ]
    }
   ],
   "source": [
    "li = []\n",
    "for i in range(9):\n",
    "    a = int(input())\n",
    "    li.append(a)\n",
    "ma = max(li)\n",
    "print(ma)\n",
    "print(li.index(ma)+1)"
   ]
  },
  {
   "cell_type": "markdown",
   "id": "84eb4003",
   "metadata": {},
   "source": [
    "#2577 숫자의 개수"
   ]
  },
  {
   "cell_type": "code",
   "execution_count": 98,
   "id": "84d545c0",
   "metadata": {},
   "outputs": [
    {
     "name": "stdout",
     "output_type": "stream",
     "text": [
      "150\n",
      "266\n",
      "427\n",
      "3\n",
      "1\n",
      "0\n",
      "2\n",
      "0\n",
      "0\n",
      "0\n",
      "2\n",
      "0\n",
      "0\n"
     ]
    }
   ],
   "source": [
    "a = int(input())\n",
    "b = int(input())\n",
    "c = int(input())\n",
    "li=[]\n",
    "re = str(a*b*c)\n",
    "for i in re:\n",
    "    li.append(i)\n",
    "for i in range(10):\n",
    "    print(li.count(str(i)))"
   ]
  },
  {
   "cell_type": "markdown",
   "id": "51862120",
   "metadata": {},
   "source": [
    "#3052 나머지"
   ]
  },
  {
   "cell_type": "code",
   "execution_count": 109,
   "id": "4aa73f61",
   "metadata": {},
   "outputs": [
    {
     "data": {
      "text/plain": [
       "1"
      ]
     },
     "execution_count": 109,
     "metadata": {},
     "output_type": "execute_result"
    }
   ],
   "source": [
    "li=[]\n",
    "for i in range(10):\n",
    "    a = int(input())\n",
    "    b = a % 42\n",
    "    li.append(b)\n",
    "print(len(set(li)))"
   ]
  },
  {
   "cell_type": "code",
   "execution_count": 104,
   "id": "b6fa1a3d",
   "metadata": {},
   "outputs": [
    {
     "data": {
      "text/plain": [
       "0"
      ]
     },
     "execution_count": 104,
     "metadata": {},
     "output_type": "execute_result"
    }
   ],
   "source": []
  },
  {
   "cell_type": "code",
   "execution_count": null,
   "id": "c60dd2f3",
   "metadata": {},
   "outputs": [],
   "source": []
  },
  {
   "cell_type": "code",
   "execution_count": null,
   "id": "3758a659",
   "metadata": {},
   "outputs": [],
   "source": []
  },
  {
   "cell_type": "code",
   "execution_count": null,
   "id": "5b136eca",
   "metadata": {},
   "outputs": [],
   "source": []
  },
  {
   "cell_type": "markdown",
   "id": "e4a1c141",
   "metadata": {},
   "source": [
    "## 함수"
   ]
  },
  {
   "cell_type": "markdown",
   "id": "e1b5e2d8",
   "metadata": {},
   "source": [
    "#15596 정수 N개의 합"
   ]
  },
  {
   "cell_type": "code",
   "execution_count": 112,
   "id": "830eea85",
   "metadata": {},
   "outputs": [
    {
     "name": "stdout",
     "output_type": "stream",
     "text": [
      "6\n"
     ]
    }
   ],
   "source": [
    "a=[]\n",
    "print(sum(a))"
   ]
  },
  {
   "cell_type": "markdown",
   "id": "74a46ad2",
   "metadata": {},
   "source": [
    "#4673 셀프넘버"
   ]
  },
  {
   "cell_type": "code",
   "execution_count": 35,
   "id": "ee39819e",
   "metadata": {},
   "outputs": [],
   "source": []
  },
  {
   "cell_type": "code",
   "execution_count": null,
   "id": "d2648b05",
   "metadata": {},
   "outputs": [],
   "source": []
  },
  {
   "cell_type": "code",
   "execution_count": null,
   "id": "1f379d2a",
   "metadata": {},
   "outputs": [],
   "source": []
  },
  {
   "cell_type": "code",
   "execution_count": null,
   "id": "243435ad",
   "metadata": {},
   "outputs": [],
   "source": [
    "\n"
   ]
  },
  {
   "cell_type": "code",
   "execution_count": null,
   "id": "ef5908e2",
   "metadata": {},
   "outputs": [],
   "source": []
  }
 ],
 "metadata": {
  "kernelspec": {
   "display_name": "Python 3 (ipykernel)",
   "language": "python",
   "name": "python3"
  },
  "language_info": {
   "codemirror_mode": {
    "name": "ipython",
    "version": 3
   },
   "file_extension": ".py",
   "mimetype": "text/x-python",
   "name": "python",
   "nbconvert_exporter": "python",
   "pygments_lexer": "ipython3",
   "version": "3.9.13"
  },
  "toc": {
   "base_numbering": 1,
   "nav_menu": {},
   "number_sections": true,
   "sideBar": true,
   "skip_h1_title": false,
   "title_cell": "Table of Contents",
   "title_sidebar": "Contents",
   "toc_cell": false,
   "toc_position": {},
   "toc_section_display": true,
   "toc_window_display": false
  }
 },
 "nbformat": 4,
 "nbformat_minor": 5
}
