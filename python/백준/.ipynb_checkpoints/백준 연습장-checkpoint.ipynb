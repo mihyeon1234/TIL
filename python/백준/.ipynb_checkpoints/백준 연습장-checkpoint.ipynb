{
 "cells": [
  {
   "cell_type": "code",
   "execution_count": null,
   "id": "5e3728e1",
   "metadata": {},
   "outputs": [],
   "source": [
    "#4344 평균은 넘겠지"
   ]
  },
  {
   "cell_type": "code",
   "execution_count": 1,
   "id": "7d18b9f9",
   "metadata": {},
   "outputs": [
    {
     "name": "stdout",
     "output_type": "stream",
     "text": [
      "5\n",
      "5 50 50 70 80 100\n",
      "40.000%\n",
      "7 100 95 90 80 70 60 50\n",
      "57.143%\n",
      "3 70 90 80\n",
      "33.333%\n",
      "3 70 90 81\n",
      "66.667%\n",
      "9 100 99 98 97 96 95 94 93 91\n",
      "55.556%\n"
     ]
    }
   ],
   "source": [
    "n = int(input())\n",
    "for i in range(n):\n",
    "    co = 0\n",
    "    li=list(map(int, input().split()))\n",
    "    for j in range(1,len(li)):\n",
    "        avg = sum(li[1::])/li[0]\n",
    "        if li[j] > avg:\n",
    "                co += 1\n",
    "    re = co/li[0]*100\n",
    "\n",
    "    print(f'{re:.3f}%')\n",
    "    "
   ]
  },
  {
   "cell_type": "code",
   "execution_count": null,
   "id": "e94cdf52",
   "metadata": {},
   "outputs": [],
   "source": [
    "i = 0\n",
    "k = float(input())\n",
    "while i < k :\n",
    "    i += 1 \n",
    "    s = input('')\n",
    "\n",
    "    score = s.split()\n",
    "    \n",
    "    total = 0\n",
    "    le = 0\n",
    "    for j in range(0, len(score) ) :\n",
    "        if j == 0 :\n",
    "            le += float(score[j])\n",
    "        else :\n",
    "            total += float(score[j])\n",
    "\n",
    "    avr = (total / le)\n",
    "\n",
    "    high = 0\n",
    "    for t in range(1, len(score) ) :\n",
    "        if float(score[t]) > avr :\n",
    "            high += 1\n",
    "\n",
    "    A = (high / (len(score)-1) ) *100\n",
    "    B = round(A , 5)\n",
    "\n",
    "    print('{:.3f}%'.format(B))"
   ]
  },
  {
   "cell_type": "code",
   "execution_count": 6,
   "id": "a7423cc9",
   "metadata": {},
   "outputs": [
    {
     "name": "stdout",
     "output_type": "stream",
     "text": [
      "839 237\n",
      "938\n"
     ]
    }
   ],
   "source": [
    "a, b = map(str, input().split())\n",
    "\n",
    "ra = a[::-1]\n",
    "rb = b[::-1]\n",
    "print(max(int(ra),int(rb)))\n"
   ]
  },
  {
   "cell_type": "code",
   "execution_count": 41,
   "id": "183ec619",
   "metadata": {},
   "outputs": [
    {
     "name": "stdout",
     "output_type": "stream",
     "text": [
      "UNUCIC\n",
      "36\n"
     ]
    }
   ],
   "source": [
    "num = input()\n",
    "ti = 0\n",
    "for i in num:\n",
    "    if i in ['A' , 'B' , 'C']:\n",
    "        ti += 3\n",
    "    elif i in ['D' , 'E' , 'F']:\n",
    "        ti += 4\n",
    "    elif i in ['G' , 'H' , 'I']:\n",
    "        ti += 5\n",
    "    elif i in ['J' , 'K' , 'L']:\n",
    "        ti += 6\n",
    "    elif i in ['M' , 'N' , 'O']:\n",
    "        ti += 7\n",
    "    elif i in ['P' , 'Q' , 'R' , 'S']:\n",
    "        ti += 8\n",
    "    elif i in ['T' , 'U' , 'V']:\n",
    "        ti += 9\n",
    "    elif i in ['W' , 'X' , 'Y' , 'Z']:\n",
    "        ti += 10\n",
    "print(ti)    \n"
   ]
  },
  {
   "cell_type": "code",
   "execution_count": null,
   "id": "2b18f7ab",
   "metadata": {},
   "outputs": [],
   "source": [
    "da = input()\n",
    "\n",
    "li = ['c=', 'c-', 'dz=','d-','lj','nj','s=','z=']\n",
    "\n"
   ]
  },
  {
   "cell_type": "code",
   "execution_count": 7,
   "id": "ddd71848",
   "metadata": {},
   "outputs": [
    {
     "name": "stdout",
     "output_type": "stream",
     "text": [
      "0 0\n"
     ]
    }
   ],
   "source": [
    "maxi = maxj= 0\n",
    "\n",
    "print(maxi , maxj)"
   ]
  },
  {
   "cell_type": "code",
   "execution_count": 3,
   "id": "6fba2591",
   "metadata": {},
   "outputs": [
    {
     "name": "stdout",
     "output_type": "stream",
     "text": [
      "10\n",
      "55\n"
     ]
    }
   ],
   "source": [
    "fib_list = [0, 1]\n",
    "num = int(input())\n",
    "while len(fib_list)!=num+1:\n",
    "    fib_list.append(fib_list[-1]+fib_list[-2])\n",
    "    \n",
    "print(fib_list[-1])"
   ]
  },
  {
   "cell_type": "code",
   "execution_count": 24,
   "id": "253150c9",
   "metadata": {},
   "outputs": [
    {
     "name": "stdout",
     "output_type": "stream",
     "text": [
      "3 2\n",
      "5\n"
     ]
    }
   ],
   "source": [
    "n, m = map(int, input().split())\n",
    "num = n*m\n",
    "print(num-1)\n"
   ]
  },
  {
   "cell_type": "code",
   "execution_count": null,
   "id": "858a28bf",
   "metadata": {},
   "outputs": [],
   "source": []
  },
  {
   "cell_type": "code",
   "execution_count": null,
   "id": "2ef3fd11",
   "metadata": {},
   "outputs": [],
   "source": []
  },
  {
   "cell_type": "code",
   "execution_count": null,
   "id": "bce4e675",
   "metadata": {},
   "outputs": [],
   "source": []
  },
  {
   "cell_type": "code",
   "execution_count": null,
   "id": "7a9588e5",
   "metadata": {},
   "outputs": [],
   "source": []
  },
  {
   "cell_type": "code",
   "execution_count": null,
   "id": "b5d0cc58",
   "metadata": {},
   "outputs": [],
   "source": []
  },
  {
   "cell_type": "code",
   "execution_count": null,
   "id": "01f1b92c",
   "metadata": {},
   "outputs": [],
   "source": []
  },
  {
   "cell_type": "code",
   "execution_count": null,
   "id": "770cde73",
   "metadata": {},
   "outputs": [],
   "source": []
  },
  {
   "cell_type": "code",
   "execution_count": null,
   "id": "99a94487",
   "metadata": {},
   "outputs": [],
   "source": []
  },
  {
   "cell_type": "code",
   "execution_count": null,
   "id": "76072f8b",
   "metadata": {},
   "outputs": [],
   "source": []
  },
  {
   "cell_type": "code",
   "execution_count": null,
   "id": "268d6960",
   "metadata": {},
   "outputs": [],
   "source": []
  }
 ],
 "metadata": {
  "kernelspec": {
   "display_name": "Python 3 (ipykernel)",
   "language": "python",
   "name": "python3"
  },
  "language_info": {
   "codemirror_mode": {
    "name": "ipython",
    "version": 3
   },
   "file_extension": ".py",
   "mimetype": "text/x-python",
   "name": "python",
   "nbconvert_exporter": "python",
   "pygments_lexer": "ipython3",
   "version": "3.9.13"
  },
  "toc": {
   "base_numbering": 1,
   "nav_menu": {},
   "number_sections": true,
   "sideBar": true,
   "skip_h1_title": false,
   "title_cell": "Table of Contents",
   "title_sidebar": "Contents",
   "toc_cell": false,
   "toc_position": {},
   "toc_section_display": true,
   "toc_window_display": false
  }
 },
 "nbformat": 4,
 "nbformat_minor": 5
}
