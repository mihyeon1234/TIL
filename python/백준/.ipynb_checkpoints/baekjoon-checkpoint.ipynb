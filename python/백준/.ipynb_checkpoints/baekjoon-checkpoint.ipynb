{
 "cells": [
  {
   "cell_type": "markdown",
   "id": "ed483a63",
   "metadata": {},
   "source": [
    "## 조건문"
   ]
  },
  {
   "cell_type": "markdown",
   "id": "cf60644c",
   "metadata": {},
   "source": [
    "#2753 윤년"
   ]
  },
  {
   "cell_type": "code",
   "execution_count": null,
   "id": "7d60da29",
   "metadata": {},
   "outputs": [],
   "source": [
    "def leaf_year(year):\n",
    "    if year % 4 == 0 and ( year % 100 != 0 or year % 400 == 0) :\n",
    "         return f'{year}년은 윤년입니다.'\n",
    "    else:\n",
    "        return f'{year}년은 윤년이 아닙니다.'\n",
    "print(leaf_year(2020))"
   ]
  },
  {
   "cell_type": "markdown",
   "id": "a634c60a",
   "metadata": {},
   "source": [
    "#14681 사분면 고르기"
   ]
  },
  {
   "cell_type": "code",
   "execution_count": 3,
   "id": "48123bea",
   "metadata": {},
   "outputs": [
    {
     "name": "stdout",
     "output_type": "stream",
     "text": [
      "9\n",
      "-13\n",
      "4\n"
     ]
    }
   ],
   "source": [
    "numx = int(input())\n",
    "numy = int(input())\n",
    "\n",
    "if numx > 0 and numy > 0:\n",
    "    print(1)\n",
    "elif numx > 0 and numy < 0:\n",
    "    print(4)\n",
    "elif numx < 0 and numy < 0:\n",
    "    print(3)\n",
    "elif numx < 0 and numy > 0:\n",
    "    print(2)"
   ]
  },
  {
   "cell_type": "markdown",
   "id": "a54034a5",
   "metadata": {},
   "source": [
    "#2884 알람 시계 "
   ]
  },
  {
   "cell_type": "code",
   "execution_count": 35,
   "id": "43f30841",
   "metadata": {},
   "outputs": [
    {
     "name": "stdout",
     "output_type": "stream",
     "text": [
      "0 59\n",
      "0 14\n"
     ]
    }
   ],
   "source": [
    "a,b = map(int,input().split())\n",
    "if b < 45 and a == 0:\n",
    "     print(23, 60-45+b)\n",
    "elif b < 45 and a <= 23:\n",
    "    print(a-1, 60-45+b)\n",
    "elif b >= 45 and a == 0:\n",
    "     print(a, b-45)\n",
    "elif b >= 45 and a <= 23:\n",
    "     print(a, b-45)        "
   ]
  },
  {
   "cell_type": "markdown",
   "id": "81119a1f",
   "metadata": {},
   "source": [
    "#2525 오븐시계"
   ]
  },
  {
   "cell_type": "code",
   "execution_count": 12,
   "id": "23a1ec3f",
   "metadata": {},
   "outputs": [
    {
     "name": "stdout",
     "output_type": "stream",
     "text": [
      "23 48\n",
      "25\n",
      "0 13\n"
     ]
    }
   ],
   "source": [
    "h, t = map(int,input().split())\n",
    "m = int(input())\n",
    "\n",
    "mh,mt=divmod(m+t,60)\n",
    "\n",
    "print((h+mh)%24, mt)"
   ]
  },
  {
   "cell_type": "markdown",
   "id": "9babfe95",
   "metadata": {},
   "source": [
    "#2480 주사위 세개"
   ]
  },
  {
   "cell_type": "code",
   "execution_count": 44,
   "id": "09f6ccbd",
   "metadata": {},
   "outputs": [
    {
     "ename": "KeyboardInterrupt",
     "evalue": "Interrupted by user",
     "output_type": "error",
     "traceback": [
      "\u001b[1;31m---------------------------------------------------------------------------\u001b[0m",
      "\u001b[1;31mKeyboardInterrupt\u001b[0m                         Traceback (most recent call last)",
      "Input \u001b[1;32mIn [44]\u001b[0m, in \u001b[0;36m<cell line: 1>\u001b[1;34m()\u001b[0m\n\u001b[1;32m----> 1\u001b[0m li \u001b[38;5;241m=\u001b[39m \u001b[38;5;28mlist\u001b[39m(\u001b[38;5;28mmap\u001b[39m(\u001b[38;5;28mint\u001b[39m, \u001b[38;5;28;43minput\u001b[39;49m\u001b[43m(\u001b[49m\u001b[43m)\u001b[49m\u001b[38;5;241m.\u001b[39msplit()))\n\u001b[0;32m      4\u001b[0m \u001b[38;5;28;01mif\u001b[39;00m \u001b[38;5;28mlen\u001b[39m(\u001b[38;5;28mset\u001b[39m(li))\u001b[38;5;241m==\u001b[39m\u001b[38;5;241m1\u001b[39m:\n\u001b[0;32m      5\u001b[0m     \u001b[38;5;28mprint\u001b[39m(\u001b[38;5;241m10000\u001b[39m\u001b[38;5;241m+\u001b[39mli[\u001b[38;5;241m0\u001b[39m]\u001b[38;5;241m*\u001b[39m\u001b[38;5;241m1000\u001b[39m)\n",
      "File \u001b[1;32m~\\AppData\\Local\\Programs\\Python\\Python39\\lib\\site-packages\\ipykernel\\kernelbase.py:1177\u001b[0m, in \u001b[0;36mKernel.raw_input\u001b[1;34m(self, prompt)\u001b[0m\n\u001b[0;32m   1173\u001b[0m \u001b[38;5;28;01mif\u001b[39;00m \u001b[38;5;129;01mnot\u001b[39;00m \u001b[38;5;28mself\u001b[39m\u001b[38;5;241m.\u001b[39m_allow_stdin:\n\u001b[0;32m   1174\u001b[0m     \u001b[38;5;28;01mraise\u001b[39;00m StdinNotImplementedError(\n\u001b[0;32m   1175\u001b[0m         \u001b[38;5;124m\"\u001b[39m\u001b[38;5;124mraw_input was called, but this frontend does not support input requests.\u001b[39m\u001b[38;5;124m\"\u001b[39m\n\u001b[0;32m   1176\u001b[0m     )\n\u001b[1;32m-> 1177\u001b[0m \u001b[38;5;28;01mreturn\u001b[39;00m \u001b[38;5;28;43mself\u001b[39;49m\u001b[38;5;241;43m.\u001b[39;49m\u001b[43m_input_request\u001b[49m\u001b[43m(\u001b[49m\n\u001b[0;32m   1178\u001b[0m \u001b[43m    \u001b[49m\u001b[38;5;28;43mstr\u001b[39;49m\u001b[43m(\u001b[49m\u001b[43mprompt\u001b[49m\u001b[43m)\u001b[49m\u001b[43m,\u001b[49m\n\u001b[0;32m   1179\u001b[0m \u001b[43m    \u001b[49m\u001b[38;5;28;43mself\u001b[39;49m\u001b[38;5;241;43m.\u001b[39;49m\u001b[43m_parent_ident\u001b[49m\u001b[43m[\u001b[49m\u001b[38;5;124;43m\"\u001b[39;49m\u001b[38;5;124;43mshell\u001b[39;49m\u001b[38;5;124;43m\"\u001b[39;49m\u001b[43m]\u001b[49m\u001b[43m,\u001b[49m\n\u001b[0;32m   1180\u001b[0m \u001b[43m    \u001b[49m\u001b[38;5;28;43mself\u001b[39;49m\u001b[38;5;241;43m.\u001b[39;49m\u001b[43mget_parent\u001b[49m\u001b[43m(\u001b[49m\u001b[38;5;124;43m\"\u001b[39;49m\u001b[38;5;124;43mshell\u001b[39;49m\u001b[38;5;124;43m\"\u001b[39;49m\u001b[43m)\u001b[49m\u001b[43m,\u001b[49m\n\u001b[0;32m   1181\u001b[0m \u001b[43m    \u001b[49m\u001b[43mpassword\u001b[49m\u001b[38;5;241;43m=\u001b[39;49m\u001b[38;5;28;43;01mFalse\u001b[39;49;00m\u001b[43m,\u001b[49m\n\u001b[0;32m   1182\u001b[0m \u001b[43m\u001b[49m\u001b[43m)\u001b[49m\n",
      "File \u001b[1;32m~\\AppData\\Local\\Programs\\Python\\Python39\\lib\\site-packages\\ipykernel\\kernelbase.py:1219\u001b[0m, in \u001b[0;36mKernel._input_request\u001b[1;34m(self, prompt, ident, parent, password)\u001b[0m\n\u001b[0;32m   1216\u001b[0m             \u001b[38;5;28;01mbreak\u001b[39;00m\n\u001b[0;32m   1217\u001b[0m \u001b[38;5;28;01mexcept\u001b[39;00m \u001b[38;5;167;01mKeyboardInterrupt\u001b[39;00m:\n\u001b[0;32m   1218\u001b[0m     \u001b[38;5;66;03m# re-raise KeyboardInterrupt, to truncate traceback\u001b[39;00m\n\u001b[1;32m-> 1219\u001b[0m     \u001b[38;5;28;01mraise\u001b[39;00m \u001b[38;5;167;01mKeyboardInterrupt\u001b[39;00m(\u001b[38;5;124m\"\u001b[39m\u001b[38;5;124mInterrupted by user\u001b[39m\u001b[38;5;124m\"\u001b[39m) \u001b[38;5;28;01mfrom\u001b[39;00m \u001b[38;5;28mNone\u001b[39m\n\u001b[0;32m   1220\u001b[0m \u001b[38;5;28;01mexcept\u001b[39;00m \u001b[38;5;167;01mException\u001b[39;00m:\n\u001b[0;32m   1221\u001b[0m     \u001b[38;5;28mself\u001b[39m\u001b[38;5;241m.\u001b[39mlog\u001b[38;5;241m.\u001b[39mwarning(\u001b[38;5;124m\"\u001b[39m\u001b[38;5;124mInvalid Message:\u001b[39m\u001b[38;5;124m\"\u001b[39m, exc_info\u001b[38;5;241m=\u001b[39m\u001b[38;5;28;01mTrue\u001b[39;00m)\n",
      "\u001b[1;31mKeyboardInterrupt\u001b[0m: Interrupted by user"
     ]
    }
   ],
   "source": [
    "li = list(map(int, input().split()))\n",
    "\n",
    "if len(set(li))==1:\n",
    "    print(10000+li[0]*1000)\n",
    "elif len(set(li))==3:\n",
    "    print(max(li)*100)\n",
    "else:\n",
    "    for i in li:\n",
    "        if li.count(i)==2:\n",
    "            print(1000+i*100)\n",
    "            break"
   ]
  },
  {
   "cell_type": "markdown",
   "id": "84620758",
   "metadata": {},
   "source": [
    "## 반복문"
   ]
  },
  {
   "cell_type": "markdown",
   "id": "5d7b58d1",
   "metadata": {},
   "source": [
    "#2739 구구단"
   ]
  },
  {
   "cell_type": "code",
   "execution_count": 38,
   "id": "a286ab93",
   "metadata": {},
   "outputs": [
    {
     "name": "stdout",
     "output_type": "stream",
     "text": [
      "2\n",
      "2 * 1 = 2\n",
      "2 * 2 = 4\n",
      "2 * 3 = 6\n",
      "2 * 4 = 8\n",
      "2 * 5 = 10\n",
      "2 * 6 = 12\n",
      "2 * 7 = 14\n",
      "2 * 8 = 16\n",
      "2 * 9 = 18\n"
     ]
    }
   ],
   "source": [
    "num = int(input())\n",
    "\n",
    "for i in range(1,10):\n",
    "    print(f'{num} * {i} = {num*i}')"
   ]
  },
  {
   "cell_type": "markdown",
   "id": "fa96e581",
   "metadata": {},
   "source": [
    "#10950 A+B -3"
   ]
  },
  {
   "cell_type": "code",
   "execution_count": 41,
   "id": "07783069",
   "metadata": {},
   "outputs": [
    {
     "name": "stdout",
     "output_type": "stream",
     "text": [
      "5\n",
      "1 1\n",
      "2\n",
      "2 3\n",
      "5\n",
      "5 6\n",
      "11\n",
      "9 8\n",
      "17\n",
      "155 33\n",
      "188\n"
     ]
    }
   ],
   "source": [
    "num = int(input())\n",
    "\n",
    "for i in range(num):\n",
    "    a,b = map(int,input().split())\n",
    "    print(a+b)"
   ]
  },
  {
   "cell_type": "markdown",
   "id": "a62cb398",
   "metadata": {},
   "source": [
    "#8393 합"
   ]
  },
  {
   "cell_type": "code",
   "execution_count": null,
   "id": "643dfae9",
   "metadata": {},
   "outputs": [],
   "source": [
    "num = int(input())\n",
    "su = 0\n",
    "for i in range(1,num+1):\n",
    "    su += i\n",
    "    i+=1\n",
    "print(su)"
   ]
  },
  {
   "cell_type": "markdown",
   "id": "a021c880",
   "metadata": {},
   "source": [
    "#15552 빠른A+B"
   ]
  },
  {
   "cell_type": "code",
   "execution_count": null,
   "id": "6a9f8a96",
   "metadata": {},
   "outputs": [],
   "source": [
    "import sys\n",
    "num = int(input())\n",
    "for i in range(num):\n",
    "    a,b = map(int, sys.stdin.readline().split())\n",
    "    print(a+b)"
   ]
  },
  {
   "cell_type": "markdown",
   "id": "f303014d",
   "metadata": {},
   "source": [
    "#2741 N찍기"
   ]
  },
  {
   "cell_type": "code",
   "execution_count": 57,
   "id": "de563569",
   "metadata": {},
   "outputs": [
    {
     "name": "stdout",
     "output_type": "stream",
     "text": [
      "5\n",
      "1\n",
      "2\n",
      "3\n",
      "4\n",
      "5\n"
     ]
    }
   ],
   "source": [
    "num = int(input())\n",
    "for i in range(1,num+1):\n",
    "    print(i)\n"
   ]
  },
  {
   "cell_type": "markdown",
   "id": "2bbcff51",
   "metadata": {},
   "source": [
    "#2742 기찍N"
   ]
  },
  {
   "cell_type": "code",
   "execution_count": 46,
   "id": "b1ef3547",
   "metadata": {},
   "outputs": [
    {
     "name": "stdout",
     "output_type": "stream",
     "text": [
      "5\n",
      "5\n",
      "4\n",
      "3\n",
      "2\n",
      "1\n"
     ]
    }
   ],
   "source": [
    "a = int(input())\n",
    "\n",
    "for i in range(a,0,-1):\n",
    "    print(i)"
   ]
  },
  {
   "cell_type": "markdown",
   "id": "944e67dc",
   "metadata": {},
   "source": [
    "#11021 A+B-7"
   ]
  },
  {
   "cell_type": "code",
   "execution_count": 47,
   "id": "e60125d7",
   "metadata": {},
   "outputs": [
    {
     "name": "stdout",
     "output_type": "stream",
     "text": [
      "2\n",
      "1 1\n",
      "Case #1: 2\n",
      "1 1\n",
      "Case #2: 2\n"
     ]
    }
   ],
   "source": [
    "num = int(input())\n",
    "\n",
    "for i in range(1,num+1):\n",
    "    a, b = map(int, input().split())\n",
    "    print(f'Case #{i}: {a+b}')"
   ]
  },
  {
   "cell_type": "markdown",
   "id": "4c192263",
   "metadata": {},
   "source": [
    "#11021 A+B-8"
   ]
  },
  {
   "cell_type": "code",
   "execution_count": 48,
   "id": "e7b7bef8",
   "metadata": {},
   "outputs": [
    {
     "name": "stdout",
     "output_type": "stream",
     "text": [
      "5\n",
      "1 1\n",
      "Case #1: 1 + 1 = 2\n",
      "2 3\n",
      "Case #2: 2 + 3 = 5\n",
      "3 4\n",
      "Case #3: 3 + 4 = 7\n",
      "9 8\n",
      "Case #4: 9 + 8 = 17\n",
      "5 2\n",
      "Case #5: 5 + 2 = 7\n"
     ]
    }
   ],
   "source": [
    "num = int(input())\n",
    "\n",
    "for i in range(1,num+1):\n",
    "    a,b = map(int, input().split())\n",
    "    \n",
    "    print(f'Case #{i}: {a} + {b} = {a+b}')"
   ]
  },
  {
   "cell_type": "markdown",
   "id": "a7849bcf",
   "metadata": {},
   "source": [
    "#2438 별찍기 - 1"
   ]
  },
  {
   "cell_type": "code",
   "execution_count": 50,
   "id": "a1c79b85",
   "metadata": {},
   "outputs": [
    {
     "name": "stdout",
     "output_type": "stream",
     "text": [
      "5\n",
      "*\n",
      "**\n",
      "***\n",
      "****\n",
      "*****\n"
     ]
    }
   ],
   "source": [
    "num = int(input())\n",
    "\n",
    "for i in range(1,num+1):\n",
    "    print(i*'*')"
   ]
  },
  {
   "cell_type": "markdown",
   "id": "091d2055",
   "metadata": {},
   "source": [
    "#2439 별찍기 - 2"
   ]
  },
  {
   "cell_type": "code",
   "execution_count": 53,
   "id": "a691b292",
   "metadata": {},
   "outputs": [
    {
     "name": "stdout",
     "output_type": "stream",
     "text": [
      "5\n",
      "    *\n",
      "   **\n",
      "  ***\n",
      " ****\n",
      "*****\n"
     ]
    }
   ],
   "source": [
    "num = int(input())\n",
    "\n",
    "for i in range(1,num+1):\n",
    "    star = i*'*'\n",
    "    print(f'{star:>{num}}')"
   ]
  },
  {
   "cell_type": "markdown",
   "id": "8caddec4",
   "metadata": {},
   "source": [
    "#10871 X보다 작은 수"
   ]
  },
  {
   "cell_type": "code",
   "execution_count": 54,
   "id": "dfd2eace",
   "metadata": {},
   "outputs": [
    {
     "name": "stdout",
     "output_type": "stream",
     "text": [
      "10 5\n",
      "1 10 4 9 2 3 8 5 7 6\n",
      "1 4 2 3 "
     ]
    }
   ],
   "source": [
    "a, b = map(int, input().split())\n",
    "c = list(map(int, input().split()))\n",
    "for i in c:\n",
    "    if i < b:\n",
    "        print(i, end=' ')\n",
    "    "
   ]
  },
  {
   "cell_type": "markdown",
   "id": "5152ff7d",
   "metadata": {},
   "source": [
    "#10952 A+B-5"
   ]
  },
  {
   "cell_type": "code",
   "execution_count": 61,
   "id": "cbd686dc",
   "metadata": {},
   "outputs": [
    {
     "name": "stdout",
     "output_type": "stream",
     "text": [
      "1 1\n",
      "2\n",
      "0 0\n"
     ]
    }
   ],
   "source": [
    "while True:\n",
    "    a,b = map(int, input().split())\n",
    "    if a==0 and b==0:\n",
    "        break\n",
    "    else:\n",
    "        print(a+b)"
   ]
  },
  {
   "cell_type": "markdown",
   "id": "e32c9a82",
   "metadata": {},
   "source": [
    "#10951 A+B-4"
   ]
  },
  {
   "cell_type": "code",
   "execution_count": 1,
   "id": "c4d29056",
   "metadata": {},
   "outputs": [
    {
     "name": "stdout",
     "output_type": "stream",
     "text": [
      "0 0\n",
      "0\n"
     ]
    }
   ],
   "source": [
    "while True:\n",
    "    try:\n",
    "        a,b = map(int, input().split())\n",
    "        print(a+b)\n",
    "    except:\n",
    "        break"
   ]
  },
  {
   "cell_type": "markdown",
   "id": "d38f541e",
   "metadata": {},
   "source": [
    "#1110 더하기 사이클"
   ]
  },
  {
   "cell_type": "code",
   "execution_count": null,
   "id": "5ec5b4ea",
   "metadata": {},
   "outputs": [],
   "source": [
    "n = int(input())\n",
    "c = 0\n",
    "a = 0\n",
    "i = n//10\n",
    "j = n%10 \n",
    "while True:\n",
    "    if j*10 +i+j != n:\n",
    "        i = a//10\n",
    "        j = a%10 \n",
    "        a = j*10 +i+j\n",
    "        c += 1\n",
    "    elif j*10 +i+j == n:\n",
    "        print(c)\n",
    "        break\n"
   ]
  },
  {
   "cell_type": "markdown",
   "id": "340ff364",
   "metadata": {},
   "source": [
    "## 1차원 배열"
   ]
  },
  {
   "cell_type": "markdown",
   "id": "fa99dace",
   "metadata": {},
   "source": [
    "#10818 최소, 최대"
   ]
  },
  {
   "cell_type": "code",
   "execution_count": 58,
   "id": "20ce3635",
   "metadata": {},
   "outputs": [
    {
     "name": "stdout",
     "output_type": "stream",
     "text": [
      "5\n",
      "20 10 35 30 7\n",
      "7 35\n"
     ]
    }
   ],
   "source": [
    "num = int(input())\n",
    "li = list(map(int,input().split()))\n",
    "print(min(li),max(li))"
   ]
  },
  {
   "cell_type": "markdown",
   "id": "fd75151e",
   "metadata": {},
   "source": [
    "#2562 최댓값"
   ]
  },
  {
   "cell_type": "code",
   "execution_count": 75,
   "id": "6f3d193f",
   "metadata": {},
   "outputs": [
    {
     "name": "stdout",
     "output_type": "stream",
     "text": [
      "3\n",
      "29\n",
      "38\n",
      "12\n",
      "57\n",
      "74\n",
      "40\n",
      "85\n",
      "61\n",
      "85\n",
      "8\n"
     ]
    }
   ],
   "source": [
    "li = []\n",
    "for i in range(9):\n",
    "    a = int(input())\n",
    "    li.append(a)\n",
    "ma = max(li)\n",
    "print(ma)\n",
    "print(li.index(ma)+1)"
   ]
  },
  {
   "cell_type": "markdown",
   "id": "84eb4003",
   "metadata": {},
   "source": [
    "#2577 숫자의 개수"
   ]
  },
  {
   "cell_type": "code",
   "execution_count": 98,
   "id": "84d545c0",
   "metadata": {},
   "outputs": [
    {
     "name": "stdout",
     "output_type": "stream",
     "text": [
      "150\n",
      "266\n",
      "427\n",
      "3\n",
      "1\n",
      "0\n",
      "2\n",
      "0\n",
      "0\n",
      "0\n",
      "2\n",
      "0\n",
      "0\n"
     ]
    }
   ],
   "source": [
    "a = int(input())\n",
    "b = int(input())\n",
    "c = int(input())\n",
    "li=[]\n",
    "re = str(a*b*c)\n",
    "for i in re:\n",
    "    li.append(i)\n",
    "for i in range(10):\n",
    "    print(li.count(str(i)))"
   ]
  },
  {
   "cell_type": "markdown",
   "id": "51862120",
   "metadata": {},
   "source": [
    "#3052 나머지"
   ]
  },
  {
   "cell_type": "code",
   "execution_count": 109,
   "id": "4aa73f61",
   "metadata": {},
   "outputs": [
    {
     "data": {
      "text/plain": [
       "1"
      ]
     },
     "execution_count": 109,
     "metadata": {},
     "output_type": "execute_result"
    }
   ],
   "source": [
    "li=[]\n",
    "for i in range(10):\n",
    "    a = int(input())\n",
    "    b = a % 42\n",
    "    li.append(b)\n",
    "print(len(set(li)))"
   ]
  },
  {
   "cell_type": "code",
   "execution_count": 104,
   "id": "b6fa1a3d",
   "metadata": {},
   "outputs": [
    {
     "data": {
      "text/plain": [
       "0"
      ]
     },
     "execution_count": 104,
     "metadata": {},
     "output_type": "execute_result"
    }
   ],
   "source": []
  },
  {
   "cell_type": "code",
   "execution_count": null,
   "id": "c60dd2f3",
   "metadata": {},
   "outputs": [],
   "source": []
  },
  {
   "cell_type": "code",
   "execution_count": null,
   "id": "3758a659",
   "metadata": {},
   "outputs": [],
   "source": []
  },
  {
   "cell_type": "code",
   "execution_count": null,
   "id": "5b136eca",
   "metadata": {},
   "outputs": [],
   "source": []
  },
  {
   "cell_type": "markdown",
   "id": "e4a1c141",
   "metadata": {},
   "source": [
    "## 함수"
   ]
  },
  {
   "cell_type": "markdown",
   "id": "e1b5e2d8",
   "metadata": {},
   "source": [
    "#15596 정수 N개의 합"
   ]
  },
  {
   "cell_type": "code",
   "execution_count": 112,
   "id": "830eea85",
   "metadata": {},
   "outputs": [
    {
     "name": "stdout",
     "output_type": "stream",
     "text": [
      "6\n"
     ]
    }
   ],
   "source": [
    "a=[]\n",
    "print(sum(a))"
   ]
  },
  {
   "cell_type": "markdown",
   "id": "74a46ad2",
   "metadata": {},
   "source": [
    "#4673 셀프넘버"
   ]
  },
  {
   "cell_type": "code",
   "execution_count": 35,
   "id": "ee39819e",
   "metadata": {},
   "outputs": [],
   "source": []
  },
  {
   "cell_type": "code",
   "execution_count": null,
   "id": "d2648b05",
   "metadata": {},
   "outputs": [],
   "source": []
  },
  {
   "cell_type": "code",
   "execution_count": null,
   "id": "1f379d2a",
   "metadata": {},
   "outputs": [],
   "source": []
  },
  {
   "cell_type": "code",
   "execution_count": null,
   "id": "243435ad",
   "metadata": {},
   "outputs": [],
   "source": [
    "\n"
   ]
  },
  {
   "cell_type": "code",
   "execution_count": null,
   "id": "ef5908e2",
   "metadata": {},
   "outputs": [],
   "source": []
  },
  {
   "cell_type": "code",
   "execution_count": null,
   "id": "27f9397e",
   "metadata": {},
   "outputs": [],
   "source": []
  },
  {
   "cell_type": "code",
   "execution_count": null,
   "id": "8d879c5f",
   "metadata": {},
   "outputs": [],
   "source": []
  },
  {
   "cell_type": "code",
   "execution_count": null,
   "id": "903c5dfb",
   "metadata": {},
   "outputs": [],
   "source": []
  },
  {
   "cell_type": "markdown",
   "id": "0d3c3e84",
   "metadata": {},
   "source": [
    "#2738 행렬 덧셈"
   ]
  },
  {
   "cell_type": "code",
   "execution_count": 12,
   "id": "3acd2280",
   "metadata": {},
   "outputs": [
    {
     "name": "stdout",
     "output_type": "stream",
     "text": [
      "2 2\n",
      "2 2\n",
      "2 2\n",
      "2 2\n",
      "3 3\n",
      "4 4 \n",
      "5 5 \n"
     ]
    }
   ],
   "source": [
    "n,m = map(int, input().split())\n",
    "\n",
    "a,b = [],[]\n",
    "\n",
    "for row in range(n):\n",
    "    a.append(list(map(int, input().split())))\n",
    "    \n",
    "for row in range(n):\n",
    "    b.append(list(map(int, input().split())))\n",
    "        \n",
    "for i in range(n):\n",
    "    for j in range(m):\n",
    "        print(a[i][j] + b[i][j],end=' ')\n",
    "    print()"
   ]
  }
 ],
 "metadata": {
  "kernelspec": {
   "display_name": "Python 3 (ipykernel)",
   "language": "python",
   "name": "python3"
  },
  "language_info": {
   "codemirror_mode": {
    "name": "ipython",
    "version": 3
   },
   "file_extension": ".py",
   "mimetype": "text/x-python",
   "name": "python",
   "nbconvert_exporter": "python",
   "pygments_lexer": "ipython3",
   "version": "3.9.13"
  },
  "toc": {
   "base_numbering": 1,
   "nav_menu": {},
   "number_sections": true,
   "sideBar": true,
   "skip_h1_title": false,
   "title_cell": "Table of Contents",
   "title_sidebar": "Contents",
   "toc_cell": false,
   "toc_position": {},
   "toc_section_display": true,
   "toc_window_display": false
  }
 },
 "nbformat": 4,
 "nbformat_minor": 5
}
