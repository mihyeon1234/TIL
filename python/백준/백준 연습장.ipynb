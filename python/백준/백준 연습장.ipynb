{
 "cells": [
  {
   "cell_type": "code",
   "execution_count": null,
   "id": "5e3728e1",
   "metadata": {},
   "outputs": [],
   "source": [
    "#4344 평균은 넘겠지"
   ]
  },
  {
   "cell_type": "code",
   "execution_count": 1,
   "id": "7d18b9f9",
   "metadata": {},
   "outputs": [
    {
     "name": "stdout",
     "output_type": "stream",
     "text": [
      "5\n",
      "5 50 50 70 80 100\n",
      "40.000%\n",
      "7 100 95 90 80 70 60 50\n",
      "57.143%\n",
      "3 70 90 80\n",
      "33.333%\n",
      "3 70 90 81\n",
      "66.667%\n",
      "9 100 99 98 97 96 95 94 93 91\n",
      "55.556%\n"
     ]
    }
   ],
   "source": [
    "n = int(input())\n",
    "for i in range(n):\n",
    "    co = 0\n",
    "    li=list(map(int, input().split()))\n",
    "    for j in range(1,len(li)):\n",
    "        avg = sum(li[1::])/li[0]\n",
    "        if li[j] > avg:\n",
    "                co += 1\n",
    "    re = co/li[0]*100\n",
    "\n",
    "    print(f'{re:.3f}%')\n",
    "    "
   ]
  },
  {
   "cell_type": "code",
   "execution_count": null,
   "id": "e94cdf52",
   "metadata": {},
   "outputs": [],
   "source": [
    "i = 0\n",
    "k = float(input())\n",
    "while i < k :\n",
    "    i += 1 \n",
    "    s = input('')\n",
    "\n",
    "    score = s.split()\n",
    "    \n",
    "    total = 0\n",
    "    le = 0\n",
    "    for j in range(0, len(score) ) :\n",
    "        if j == 0 :\n",
    "            le += float(score[j])\n",
    "        else :\n",
    "            total += float(score[j])\n",
    "\n",
    "    avr = (total / le)\n",
    "\n",
    "    high = 0\n",
    "    for t in range(1, len(score) ) :\n",
    "        if float(score[t]) > avr :\n",
    "            high += 1\n",
    "\n",
    "    A = (high / (len(score)-1) ) *100\n",
    "    B = round(A , 5)\n",
    "\n",
    "    print('{:.3f}%'.format(B))"
   ]
  },
  {
   "cell_type": "code",
   "execution_count": null,
   "id": "a7423cc9",
   "metadata": {},
   "outputs": [],
   "source": []
  }
 ],
 "metadata": {
  "kernelspec": {
   "display_name": "Python 3 (ipykernel)",
   "language": "python",
   "name": "python3"
  },
  "language_info": {
   "codemirror_mode": {
    "name": "ipython",
    "version": 3
   },
   "file_extension": ".py",
   "mimetype": "text/x-python",
   "name": "python",
   "nbconvert_exporter": "python",
   "pygments_lexer": "ipython3",
   "version": "3.9.13"
  },
  "toc": {
   "base_numbering": 1,
   "nav_menu": {},
   "number_sections": true,
   "sideBar": true,
   "skip_h1_title": false,
   "title_cell": "Table of Contents",
   "title_sidebar": "Contents",
   "toc_cell": false,
   "toc_position": {},
   "toc_section_display": true,
   "toc_window_display": false
  }
 },
 "nbformat": 4,
 "nbformat_minor": 5
}
